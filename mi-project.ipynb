{
 "cells": [
  {
   "cell_type": "code",
   "execution_count": 1,
   "id": "13292e8d",
   "metadata": {
    "_cell_guid": "b1076dfc-b9ad-4769-8c92-a6c4dae69d19",
    "_uuid": "8f2839f25d086af736a60e9eeb907d3b93b6e0e5",
    "execution": {
     "iopub.execute_input": "2022-11-28T14:45:12.573390Z",
     "iopub.status.busy": "2022-11-28T14:45:12.572164Z",
     "iopub.status.idle": "2022-11-28T14:45:12.579096Z",
     "shell.execute_reply": "2022-11-28T14:45:12.578117Z"
    },
    "papermill": {
     "duration": 0.021241,
     "end_time": "2022-11-28T14:45:12.582117",
     "exception": false,
     "start_time": "2022-11-28T14:45:12.560876",
     "status": "completed"
    },
    "tags": []
   },
   "outputs": [],
   "source": [
    "# This Python 3 environment comes with many helpful analytics libraries installed\n",
    "# It is defined by the kaggle/python Docker image: https://github.com/kaggle/docker-python\n",
    "# For example, here's several helpful packages to load\n"
   ]
  },
  {
   "cell_type": "code",
   "execution_count": 2,
   "id": "cbe31f1c",
   "metadata": {
    "execution": {
     "iopub.execute_input": "2022-11-28T14:45:12.600679Z",
     "iopub.status.busy": "2022-11-28T14:45:12.599718Z",
     "iopub.status.idle": "2022-11-28T14:45:14.700849Z",
     "shell.execute_reply": "2022-11-28T14:45:14.699690Z"
    },
    "papermill": {
     "duration": 2.113126,
     "end_time": "2022-11-28T14:45:14.703299",
     "exception": false,
     "start_time": "2022-11-28T14:45:12.590173",
     "status": "completed"
    },
    "tags": []
   },
   "outputs": [],
   "source": [
    "import pandas as pd\n",
    "import numpy as np\n",
    "import re\n",
    "import seaborn as sns\n",
    "import matplotlib.pyplot as plt\n",
    "from matplotlib import style\n",
    "style.use('ggplot')\n",
    "from nltk.tokenize import word_tokenize\n",
    "from nltk.stem import WordNetLemmatizer\n",
    "from nltk.corpus import stopwords\n",
    "stop_words = set(stopwords.words('english'))\n",
    "from wordcloud import WordCloud\n",
    "from sklearn.feature_extraction.text import TfidfVectorizer\n",
    "from sklearn.model_selection import train_test_split\n",
    "from sklearn.linear_model import LogisticRegression\n",
    "from sklearn.metrics import accuracy_score, classification_report, confusion_matrix, ConfusionMatrixDisplay"
   ]
  },
  {
   "cell_type": "code",
   "execution_count": 3,
   "id": "b94ac451",
   "metadata": {
    "execution": {
     "iopub.execute_input": "2022-11-28T14:45:14.721290Z",
     "iopub.status.busy": "2022-11-28T14:45:14.720463Z",
     "iopub.status.idle": "2022-11-28T14:45:14.861607Z",
     "shell.execute_reply": "2022-11-28T14:45:14.860790Z"
    },
    "papermill": {
     "duration": 0.153025,
     "end_time": "2022-11-28T14:45:14.864392",
     "exception": false,
     "start_time": "2022-11-28T14:45:14.711367",
     "status": "completed"
    },
    "tags": []
   },
   "outputs": [],
   "source": [
    "tweet_df = pd.read_csv('../input/cb-practice/train.csv/train.csv')"
   ]
  },
  {
   "cell_type": "code",
   "execution_count": 4,
   "id": "2a7ffe84",
   "metadata": {
    "execution": {
     "iopub.execute_input": "2022-11-28T14:45:14.882642Z",
     "iopub.status.busy": "2022-11-28T14:45:14.881969Z",
     "iopub.status.idle": "2022-11-28T14:45:14.903691Z",
     "shell.execute_reply": "2022-11-28T14:45:14.902681Z"
    },
    "papermill": {
     "duration": 0.034021,
     "end_time": "2022-11-28T14:45:14.906610",
     "exception": false,
     "start_time": "2022-11-28T14:45:14.872589",
     "status": "completed"
    },
    "tags": []
   },
   "outputs": [
    {
     "data": {
      "text/html": [
       "<div>\n",
       "<style scoped>\n",
       "    .dataframe tbody tr th:only-of-type {\n",
       "        vertical-align: middle;\n",
       "    }\n",
       "\n",
       "    .dataframe tbody tr th {\n",
       "        vertical-align: top;\n",
       "    }\n",
       "\n",
       "    .dataframe thead th {\n",
       "        text-align: right;\n",
       "    }\n",
       "</style>\n",
       "<table border=\"1\" class=\"dataframe\">\n",
       "  <thead>\n",
       "    <tr style=\"text-align: right;\">\n",
       "      <th></th>\n",
       "      <th>id</th>\n",
       "      <th>label</th>\n",
       "      <th>tweet</th>\n",
       "    </tr>\n",
       "  </thead>\n",
       "  <tbody>\n",
       "    <tr>\n",
       "      <th>0</th>\n",
       "      <td>1</td>\n",
       "      <td>0</td>\n",
       "      <td>@user when a father is dysfunctional and is s...</td>\n",
       "    </tr>\n",
       "    <tr>\n",
       "      <th>1</th>\n",
       "      <td>2</td>\n",
       "      <td>0</td>\n",
       "      <td>@user @user thanks for #lyft credit i can't us...</td>\n",
       "    </tr>\n",
       "    <tr>\n",
       "      <th>2</th>\n",
       "      <td>3</td>\n",
       "      <td>0</td>\n",
       "      <td>bihday your majesty</td>\n",
       "    </tr>\n",
       "    <tr>\n",
       "      <th>3</th>\n",
       "      <td>4</td>\n",
       "      <td>0</td>\n",
       "      <td>#model   i love u take with u all the time in ...</td>\n",
       "    </tr>\n",
       "    <tr>\n",
       "      <th>4</th>\n",
       "      <td>5</td>\n",
       "      <td>0</td>\n",
       "      <td>factsguide: society now    #motivation</td>\n",
       "    </tr>\n",
       "  </tbody>\n",
       "</table>\n",
       "</div>"
      ],
      "text/plain": [
       "   id  label                                              tweet\n",
       "0   1      0   @user when a father is dysfunctional and is s...\n",
       "1   2      0  @user @user thanks for #lyft credit i can't us...\n",
       "2   3      0                                bihday your majesty\n",
       "3   4      0  #model   i love u take with u all the time in ...\n",
       "4   5      0             factsguide: society now    #motivation"
      ]
     },
     "execution_count": 4,
     "metadata": {},
     "output_type": "execute_result"
    }
   ],
   "source": [
    "tweet_df.head()\n"
   ]
  },
  {
   "cell_type": "code",
   "execution_count": 5,
   "id": "8646f3ce",
   "metadata": {
    "execution": {
     "iopub.execute_input": "2022-11-28T14:45:14.925352Z",
     "iopub.status.busy": "2022-11-28T14:45:14.924649Z",
     "iopub.status.idle": "2022-11-28T14:45:14.953424Z",
     "shell.execute_reply": "2022-11-28T14:45:14.952353Z"
    },
    "papermill": {
     "duration": 0.040822,
     "end_time": "2022-11-28T14:45:14.955928",
     "exception": false,
     "start_time": "2022-11-28T14:45:14.915106",
     "status": "completed"
    },
    "tags": []
   },
   "outputs": [
    {
     "name": "stdout",
     "output_type": "stream",
     "text": [
      "<class 'pandas.core.frame.DataFrame'>\n",
      "RangeIndex: 31962 entries, 0 to 31961\n",
      "Data columns (total 3 columns):\n",
      " #   Column  Non-Null Count  Dtype \n",
      "---  ------  --------------  ----- \n",
      " 0   id      31962 non-null  int64 \n",
      " 1   label   31962 non-null  int64 \n",
      " 2   tweet   31962 non-null  object\n",
      "dtypes: int64(2), object(1)\n",
      "memory usage: 749.2+ KB\n"
     ]
    }
   ],
   "source": [
    "tweet_df.info()"
   ]
  },
  {
   "cell_type": "code",
   "execution_count": 6,
   "id": "cbce649c",
   "metadata": {
    "execution": {
     "iopub.execute_input": "2022-11-28T14:45:14.974762Z",
     "iopub.status.busy": "2022-11-28T14:45:14.973807Z",
     "iopub.status.idle": "2022-11-28T14:45:14.980975Z",
     "shell.execute_reply": "2022-11-28T14:45:14.979645Z"
    },
    "papermill": {
     "duration": 0.019325,
     "end_time": "2022-11-28T14:45:14.983556",
     "exception": false,
     "start_time": "2022-11-28T14:45:14.964231",
     "status": "completed"
    },
    "tags": []
   },
   "outputs": [
    {
     "name": "stdout",
     "output_type": "stream",
     "text": [
      " @user when a father is dysfunctional and is so selfish he drags his kids into his dysfunction.   #run \n",
      "\n",
      "@user @user thanks for #lyft credit i can't use cause they don't offer wheelchair vans in pdx.    #disapointed #getthanked \n",
      "\n",
      "  bihday your majesty \n",
      "\n",
      "#model   i love u take with u all the time in urð±!!! ðððð",
      "ð¦ð¦ð¦   \n",
      "\n",
      " factsguide: society now    #motivation \n",
      "\n"
     ]
    }
   ],
   "source": [
    "print(tweet_df['tweet'].iloc[0],\"\\n\")\n",
    "print(tweet_df['tweet'].iloc[1],\"\\n\")\n",
    "print(tweet_df['tweet'].iloc[2],\"\\n\")\n",
    "print(tweet_df['tweet'].iloc[3],\"\\n\")\n",
    "print(tweet_df['tweet'].iloc[4],\"\\n\")"
   ]
  },
  {
   "cell_type": "code",
   "execution_count": 7,
   "id": "83c8dfae",
   "metadata": {
    "execution": {
     "iopub.execute_input": "2022-11-28T14:45:15.002158Z",
     "iopub.status.busy": "2022-11-28T14:45:15.001689Z",
     "iopub.status.idle": "2022-11-28T14:45:15.008314Z",
     "shell.execute_reply": "2022-11-28T14:45:15.007177Z"
    },
    "papermill": {
     "duration": 0.018602,
     "end_time": "2022-11-28T14:45:15.010586",
     "exception": false,
     "start_time": "2022-11-28T14:45:14.991984",
     "status": "completed"
    },
    "tags": []
   },
   "outputs": [],
   "source": [
    "def data_processing(tweet):\n",
    "    tweet = tweet.lower()\n",
    "    tweet = re.sub(r\"https\\S+|www\\S+http\\S+\", '', tweet, flags = re.MULTILINE)\n",
    "    tweet = re.sub(r'\\@w+|\\#','', tweet)\n",
    "    tweet = re.sub(r'[^\\w\\s]','',tweet)\n",
    "    tweet = re.sub(r'ð','',tweet)\n",
    "    tweet_tokens = word_tokenize(tweet)\n",
    "    filtered_tweets = [w for w in tweet_tokens if not w in stop_words]\n",
    "    return \" \".join(filtered_tweets)"
   ]
  },
  {
   "cell_type": "code",
   "execution_count": 8,
   "id": "0a0f72f2",
   "metadata": {
    "execution": {
     "iopub.execute_input": "2022-11-28T14:45:15.029091Z",
     "iopub.status.busy": "2022-11-28T14:45:15.028615Z",
     "iopub.status.idle": "2022-11-28T14:45:19.691118Z",
     "shell.execute_reply": "2022-11-28T14:45:19.690089Z"
    },
    "papermill": {
     "duration": 4.674895,
     "end_time": "2022-11-28T14:45:19.693897",
     "exception": false,
     "start_time": "2022-11-28T14:45:15.019002",
     "status": "completed"
    },
    "tags": []
   },
   "outputs": [],
   "source": [
    "tweet_df.tweet = tweet_df['tweet'].apply(data_processing)"
   ]
  },
  {
   "cell_type": "code",
   "execution_count": 9,
   "id": "ff86aa0d",
   "metadata": {
    "execution": {
     "iopub.execute_input": "2022-11-28T14:45:19.712346Z",
     "iopub.status.busy": "2022-11-28T14:45:19.711910Z",
     "iopub.status.idle": "2022-11-28T14:45:19.734174Z",
     "shell.execute_reply": "2022-11-28T14:45:19.733018Z"
    },
    "papermill": {
     "duration": 0.034424,
     "end_time": "2022-11-28T14:45:19.736553",
     "exception": false,
     "start_time": "2022-11-28T14:45:19.702129",
     "status": "completed"
    },
    "tags": []
   },
   "outputs": [],
   "source": [
    "tweet_df = tweet_df.drop_duplicates('tweet')"
   ]
  },
  {
   "cell_type": "code",
   "execution_count": 10,
   "id": "3bd8157b",
   "metadata": {
    "execution": {
     "iopub.execute_input": "2022-11-28T14:45:19.754588Z",
     "iopub.status.busy": "2022-11-28T14:45:19.754152Z",
     "iopub.status.idle": "2022-11-28T14:45:19.759569Z",
     "shell.execute_reply": "2022-11-28T14:45:19.758573Z"
    },
    "papermill": {
     "duration": 0.016882,
     "end_time": "2022-11-28T14:45:19.761539",
     "exception": false,
     "start_time": "2022-11-28T14:45:19.744657",
     "status": "completed"
    },
    "tags": []
   },
   "outputs": [],
   "source": [
    "lemmatizer = WordNetLemmatizer()\n",
    "def lemmatizing(data):\n",
    "    tweet = [lemmatizer.lemmatize(word) for word in data]\n",
    "    return data"
   ]
  },
  {
   "cell_type": "code",
   "execution_count": 11,
   "id": "091df5db",
   "metadata": {
    "execution": {
     "iopub.execute_input": "2022-11-28T14:45:19.779671Z",
     "iopub.status.busy": "2022-11-28T14:45:19.779221Z",
     "iopub.status.idle": "2022-11-28T14:45:29.777778Z",
     "shell.execute_reply": "2022-11-28T14:45:29.776974Z"
    },
    "papermill": {
     "duration": 10.010305,
     "end_time": "2022-11-28T14:45:29.780102",
     "exception": false,
     "start_time": "2022-11-28T14:45:19.769797",
     "status": "completed"
    },
    "tags": []
   },
   "outputs": [],
   "source": [
    "tweet_df['tweet'] = tweet_df['tweet'].apply(lambda x: lemmatizing(x))"
   ]
  },
  {
   "cell_type": "code",
   "execution_count": 12,
   "id": "3a261810",
   "metadata": {
    "execution": {
     "iopub.execute_input": "2022-11-28T14:45:29.798758Z",
     "iopub.status.busy": "2022-11-28T14:45:29.798135Z",
     "iopub.status.idle": "2022-11-28T14:45:29.805261Z",
     "shell.execute_reply": "2022-11-28T14:45:29.804106Z"
    },
    "papermill": {
     "duration": 0.020087,
     "end_time": "2022-11-28T14:45:29.808441",
     "exception": false,
     "start_time": "2022-11-28T14:45:29.788354",
     "status": "completed"
    },
    "tags": []
   },
   "outputs": [
    {
     "name": "stdout",
     "output_type": "stream",
     "text": [
      "user father dysfunctional selfish drags kids dysfunction run \n",
      "\n",
      "user user thanks lyft credit cant use cause dont offer wheelchair vans pdx disapointed getthanked \n",
      "\n",
      "bihday majesty \n",
      "\n",
      "model love u take u time ur \n",
      "\n",
      "factsguide society motivation \n",
      "\n"
     ]
    }
   ],
   "source": [
    "print(tweet_df['tweet'].iloc[0],\"\\n\")\n",
    "print(tweet_df['tweet'].iloc[1],\"\\n\")\n",
    "print(tweet_df['tweet'].iloc[2],\"\\n\")\n",
    "print(tweet_df['tweet'].iloc[3],\"\\n\")\n",
    "print(tweet_df['tweet'].iloc[4],\"\\n\")\n",
    "\n"
   ]
  },
  {
   "cell_type": "code",
   "execution_count": 13,
   "id": "b9e17b57",
   "metadata": {
    "execution": {
     "iopub.execute_input": "2022-11-28T14:45:29.828274Z",
     "iopub.status.busy": "2022-11-28T14:45:29.827397Z",
     "iopub.status.idle": "2022-11-28T14:45:29.843183Z",
     "shell.execute_reply": "2022-11-28T14:45:29.842051Z"
    },
    "papermill": {
     "duration": 0.027986,
     "end_time": "2022-11-28T14:45:29.845463",
     "exception": false,
     "start_time": "2022-11-28T14:45:29.817477",
     "status": "completed"
    },
    "tags": []
   },
   "outputs": [
    {
     "name": "stdout",
     "output_type": "stream",
     "text": [
      "<class 'pandas.core.frame.DataFrame'>\n",
      "Int64Index: 29345 entries, 0 to 31961\n",
      "Data columns (total 3 columns):\n",
      " #   Column  Non-Null Count  Dtype \n",
      "---  ------  --------------  ----- \n",
      " 0   id      29345 non-null  int64 \n",
      " 1   label   29345 non-null  int64 \n",
      " 2   tweet   29345 non-null  object\n",
      "dtypes: int64(2), object(1)\n",
      "memory usage: 917.0+ KB\n"
     ]
    }
   ],
   "source": [
    "tweet_df.info()\n"
   ]
  },
  {
   "cell_type": "code",
   "execution_count": 14,
   "id": "345a2832",
   "metadata": {
    "execution": {
     "iopub.execute_input": "2022-11-28T14:45:29.864644Z",
     "iopub.status.busy": "2022-11-28T14:45:29.864034Z",
     "iopub.status.idle": "2022-11-28T14:45:29.872163Z",
     "shell.execute_reply": "2022-11-28T14:45:29.871164Z"
    },
    "papermill": {
     "duration": 0.020112,
     "end_time": "2022-11-28T14:45:29.874141",
     "exception": false,
     "start_time": "2022-11-28T14:45:29.854029",
     "status": "completed"
    },
    "tags": []
   },
   "outputs": [
    {
     "data": {
      "text/plain": [
       "0    27352\n",
       "1     1993\n",
       "Name: label, dtype: int64"
      ]
     },
     "execution_count": 14,
     "metadata": {},
     "output_type": "execute_result"
    }
   ],
   "source": [
    "tweet_df['label'].value_counts()"
   ]
  },
  {
   "cell_type": "code",
   "execution_count": null,
   "id": "29f34838",
   "metadata": {
    "papermill": {
     "duration": 0.008049,
     "end_time": "2022-11-28T14:45:29.890487",
     "exception": false,
     "start_time": "2022-11-28T14:45:29.882438",
     "status": "completed"
    },
    "tags": []
   },
   "outputs": [],
   "source": []
  },
  {
   "cell_type": "code",
   "execution_count": null,
   "id": "ea752c86",
   "metadata": {
    "papermill": {
     "duration": 0.008548,
     "end_time": "2022-11-28T14:45:29.907435",
     "exception": false,
     "start_time": "2022-11-28T14:45:29.898887",
     "status": "completed"
    },
    "tags": []
   },
   "outputs": [],
   "source": []
  },
  {
   "cell_type": "code",
   "execution_count": 15,
   "id": "a627aad0",
   "metadata": {
    "execution": {
     "iopub.execute_input": "2022-11-28T14:45:29.926392Z",
     "iopub.status.busy": "2022-11-28T14:45:29.925376Z",
     "iopub.status.idle": "2022-11-28T14:45:29.937944Z",
     "shell.execute_reply": "2022-11-28T14:45:29.937124Z"
    },
    "papermill": {
     "duration": 0.024137,
     "end_time": "2022-11-28T14:45:29.940007",
     "exception": false,
     "start_time": "2022-11-28T14:45:29.915870",
     "status": "completed"
    },
    "tags": []
   },
   "outputs": [
    {
     "data": {
      "text/html": [
       "<div>\n",
       "<style scoped>\n",
       "    .dataframe tbody tr th:only-of-type {\n",
       "        vertical-align: middle;\n",
       "    }\n",
       "\n",
       "    .dataframe tbody tr th {\n",
       "        vertical-align: top;\n",
       "    }\n",
       "\n",
       "    .dataframe thead th {\n",
       "        text-align: right;\n",
       "    }\n",
       "</style>\n",
       "<table border=\"1\" class=\"dataframe\">\n",
       "  <thead>\n",
       "    <tr style=\"text-align: right;\">\n",
       "      <th></th>\n",
       "      <th>id</th>\n",
       "      <th>label</th>\n",
       "      <th>tweet</th>\n",
       "    </tr>\n",
       "  </thead>\n",
       "  <tbody>\n",
       "    <tr>\n",
       "      <th>0</th>\n",
       "      <td>1</td>\n",
       "      <td>0</td>\n",
       "      <td>user father dysfunctional selfish drags kids d...</td>\n",
       "    </tr>\n",
       "    <tr>\n",
       "      <th>1</th>\n",
       "      <td>2</td>\n",
       "      <td>0</td>\n",
       "      <td>user user thanks lyft credit cant use cause do...</td>\n",
       "    </tr>\n",
       "    <tr>\n",
       "      <th>2</th>\n",
       "      <td>3</td>\n",
       "      <td>0</td>\n",
       "      <td>bihday majesty</td>\n",
       "    </tr>\n",
       "    <tr>\n",
       "      <th>3</th>\n",
       "      <td>4</td>\n",
       "      <td>0</td>\n",
       "      <td>model love u take u time ur</td>\n",
       "    </tr>\n",
       "    <tr>\n",
       "      <th>4</th>\n",
       "      <td>5</td>\n",
       "      <td>0</td>\n",
       "      <td>factsguide society motivation</td>\n",
       "    </tr>\n",
       "  </tbody>\n",
       "</table>\n",
       "</div>"
      ],
      "text/plain": [
       "   id  label                                              tweet\n",
       "0   1      0  user father dysfunctional selfish drags kids d...\n",
       "1   2      0  user user thanks lyft credit cant use cause do...\n",
       "2   3      0                                     bihday majesty\n",
       "3   4      0                        model love u take u time ur\n",
       "4   5      0                      factsguide society motivation"
      ]
     },
     "execution_count": 15,
     "metadata": {},
     "output_type": "execute_result"
    }
   ],
   "source": [
    "non_hate_tweets = tweet_df[tweet_df.label == 0]\n",
    "non_hate_tweets.head()"
   ]
  },
  {
   "cell_type": "code",
   "execution_count": null,
   "id": "02df6a49",
   "metadata": {
    "papermill": {
     "duration": 0.008392,
     "end_time": "2022-11-28T14:45:29.957072",
     "exception": false,
     "start_time": "2022-11-28T14:45:29.948680",
     "status": "completed"
    },
    "tags": []
   },
   "outputs": [],
   "source": []
  },
  {
   "cell_type": "code",
   "execution_count": 16,
   "id": "a83886b4",
   "metadata": {
    "execution": {
     "iopub.execute_input": "2022-11-28T14:45:29.976608Z",
     "iopub.status.busy": "2022-11-28T14:45:29.975926Z",
     "iopub.status.idle": "2022-11-28T14:45:29.987154Z",
     "shell.execute_reply": "2022-11-28T14:45:29.986322Z"
    },
    "papermill": {
     "duration": 0.023722,
     "end_time": "2022-11-28T14:45:29.989477",
     "exception": false,
     "start_time": "2022-11-28T14:45:29.965755",
     "status": "completed"
    },
    "tags": []
   },
   "outputs": [
    {
     "data": {
      "text/html": [
       "<div>\n",
       "<style scoped>\n",
       "    .dataframe tbody tr th:only-of-type {\n",
       "        vertical-align: middle;\n",
       "    }\n",
       "\n",
       "    .dataframe tbody tr th {\n",
       "        vertical-align: top;\n",
       "    }\n",
       "\n",
       "    .dataframe thead th {\n",
       "        text-align: right;\n",
       "    }\n",
       "</style>\n",
       "<table border=\"1\" class=\"dataframe\">\n",
       "  <thead>\n",
       "    <tr style=\"text-align: right;\">\n",
       "      <th></th>\n",
       "      <th>id</th>\n",
       "      <th>label</th>\n",
       "      <th>tweet</th>\n",
       "    </tr>\n",
       "  </thead>\n",
       "  <tbody>\n",
       "    <tr>\n",
       "      <th>13</th>\n",
       "      <td>14</td>\n",
       "      <td>1</td>\n",
       "      <td>user cnn calls michigan middle school build wa...</td>\n",
       "    </tr>\n",
       "    <tr>\n",
       "      <th>14</th>\n",
       "      <td>15</td>\n",
       "      <td>1</td>\n",
       "      <td>comment australia opkillingbay seashepherd hel...</td>\n",
       "    </tr>\n",
       "    <tr>\n",
       "      <th>17</th>\n",
       "      <td>18</td>\n",
       "      <td>1</td>\n",
       "      <td>retweet agree</td>\n",
       "    </tr>\n",
       "    <tr>\n",
       "      <th>23</th>\n",
       "      <td>24</td>\n",
       "      <td>1</td>\n",
       "      <td>user user lumpy says prove lumpy</td>\n",
       "    </tr>\n",
       "    <tr>\n",
       "      <th>34</th>\n",
       "      <td>35</td>\n",
       "      <td>1</td>\n",
       "      <td>unbelievable 21st century wed need something l...</td>\n",
       "    </tr>\n",
       "  </tbody>\n",
       "</table>\n",
       "</div>"
      ],
      "text/plain": [
       "    id  label                                              tweet\n",
       "13  14      1  user cnn calls michigan middle school build wa...\n",
       "14  15      1  comment australia opkillingbay seashepherd hel...\n",
       "17  18      1                                      retweet agree\n",
       "23  24      1                   user user lumpy says prove lumpy\n",
       "34  35      1  unbelievable 21st century wed need something l..."
      ]
     },
     "execution_count": 16,
     "metadata": {},
     "output_type": "execute_result"
    }
   ],
   "source": [
    "neg_tweets = tweet_df[tweet_df.label == 1]\n",
    "neg_tweets.head()"
   ]
  },
  {
   "cell_type": "code",
   "execution_count": null,
   "id": "43339193",
   "metadata": {
    "papermill": {
     "duration": 0.00862,
     "end_time": "2022-11-28T14:45:30.007267",
     "exception": false,
     "start_time": "2022-11-28T14:45:29.998647",
     "status": "completed"
    },
    "tags": []
   },
   "outputs": [],
   "source": [
    "\n"
   ]
  },
  {
   "cell_type": "code",
   "execution_count": 17,
   "id": "8178c553",
   "metadata": {
    "execution": {
     "iopub.execute_input": "2022-11-28T14:45:30.027156Z",
     "iopub.status.busy": "2022-11-28T14:45:30.026444Z",
     "iopub.status.idle": "2022-11-28T14:45:31.716657Z",
     "shell.execute_reply": "2022-11-28T14:45:31.715595Z"
    },
    "papermill": {
     "duration": 1.703291,
     "end_time": "2022-11-28T14:45:31.719416",
     "exception": false,
     "start_time": "2022-11-28T14:45:30.016125",
     "status": "completed"
    },
    "tags": []
   },
   "outputs": [],
   "source": [
    "vect = TfidfVectorizer(ngram_range=(1,2)).fit(tweet_df['tweet'])\n"
   ]
  },
  {
   "cell_type": "code",
   "execution_count": 18,
   "id": "fab968df",
   "metadata": {
    "execution": {
     "iopub.execute_input": "2022-11-28T14:45:31.739090Z",
     "iopub.status.busy": "2022-11-28T14:45:31.738627Z",
     "iopub.status.idle": "2022-11-28T14:45:32.044364Z",
     "shell.execute_reply": "2022-11-28T14:45:32.043273Z"
    },
    "papermill": {
     "duration": 0.319216,
     "end_time": "2022-11-28T14:45:32.047605",
     "exception": false,
     "start_time": "2022-11-28T14:45:31.728389",
     "status": "completed"
    },
    "tags": []
   },
   "outputs": [
    {
     "name": "stdout",
     "output_type": "stream",
     "text": [
      "Number of features: 208579\n",
      "\n",
      "First 20 features: \n",
      "['0000001', '0000001 polluting', '00027', '00027 photooftheday', '001', '0035', '00h30', '01', '01 4995', '01 7900', '01 blog', '01 croatia', '01 may', '01 shopalyssas', '0115', '0115 8599968', '0161', '0161 manny', '019', '019 previous']\n"
     ]
    },
    {
     "name": "stderr",
     "output_type": "stream",
     "text": [
      "/opt/conda/lib/python3.7/site-packages/sklearn/utils/deprecation.py:87: FutureWarning: Function get_feature_names is deprecated; get_feature_names is deprecated in 1.0 and will be removed in 1.2. Please use get_feature_names_out instead.\n",
      "  warnings.warn(msg, category=FutureWarning)\n"
     ]
    }
   ],
   "source": [
    "feature_names = vect.get_feature_names()\n",
    "print(\"Number of features: {}\\n\".format(len(feature_names)))\n",
    "print(\"First 20 features: \\n{}\".format(feature_names[:20]))\n"
   ]
  },
  {
   "cell_type": "code",
   "execution_count": 19,
   "id": "707914ec",
   "metadata": {
    "execution": {
     "iopub.execute_input": "2022-11-28T14:45:32.069414Z",
     "iopub.status.busy": "2022-11-28T14:45:32.068229Z",
     "iopub.status.idle": "2022-11-28T14:45:34.874389Z",
     "shell.execute_reply": "2022-11-28T14:45:34.873029Z"
    },
    "papermill": {
     "duration": 2.820173,
     "end_time": "2022-11-28T14:45:34.877023",
     "exception": false,
     "start_time": "2022-11-28T14:45:32.056850",
     "status": "completed"
    },
    "tags": []
   },
   "outputs": [],
   "source": [
    "vect = TfidfVectorizer(ngram_range=(1,3)).fit(tweet_df['tweet'])\n"
   ]
  },
  {
   "cell_type": "code",
   "execution_count": 20,
   "id": "1b897c4b",
   "metadata": {
    "execution": {
     "iopub.execute_input": "2022-11-28T14:45:34.899326Z",
     "iopub.status.busy": "2022-11-28T14:45:34.898352Z",
     "iopub.status.idle": "2022-11-28T14:45:35.441564Z",
     "shell.execute_reply": "2022-11-28T14:45:35.440483Z"
    },
    "papermill": {
     "duration": 0.556923,
     "end_time": "2022-11-28T14:45:35.443914",
     "exception": false,
     "start_time": "2022-11-28T14:45:34.886991",
     "status": "completed"
    },
    "tags": []
   },
   "outputs": [
    {
     "name": "stdout",
     "output_type": "stream",
     "text": [
      "Number of features: 380305\n",
      "\n",
      "First 20 features: \n",
      "['0000001', '0000001 polluting', '0000001 polluting niger', '00027', '00027 photooftheday', '00027 photooftheday music', '001', '0035', '00h30', '01', '01 4995', '01 4995 rustic', '01 7900', '01 7900 shopalyssas', '01 blog', '01 blog silver', '01 croatia', '01 croatia happy', '01 may', '01 may actual']\n"
     ]
    }
   ],
   "source": [
    "feature_names = vect.get_feature_names()\n",
    "print(\"Number of features: {}\\n\".format(len(feature_names)))\n",
    "print(\"First 20 features: \\n{}\".format(feature_names[:20]))\n"
   ]
  },
  {
   "cell_type": "code",
   "execution_count": 21,
   "id": "e6a0c4e1",
   "metadata": {
    "execution": {
     "iopub.execute_input": "2022-11-28T14:45:35.464327Z",
     "iopub.status.busy": "2022-11-28T14:45:35.463650Z",
     "iopub.status.idle": "2022-11-28T14:45:36.615179Z",
     "shell.execute_reply": "2022-11-28T14:45:36.614039Z"
    },
    "papermill": {
     "duration": 1.165032,
     "end_time": "2022-11-28T14:45:36.617987",
     "exception": false,
     "start_time": "2022-11-28T14:45:35.452955",
     "status": "completed"
    },
    "tags": []
   },
   "outputs": [],
   "source": [
    "X = tweet_df['tweet']\n",
    "Y = tweet_df['label']\n",
    "X = vect.transform(X)\n"
   ]
  },
  {
   "cell_type": "code",
   "execution_count": 22,
   "id": "b563a425",
   "metadata": {
    "execution": {
     "iopub.execute_input": "2022-11-28T14:45:36.638301Z",
     "iopub.status.busy": "2022-11-28T14:45:36.637616Z",
     "iopub.status.idle": "2022-11-28T14:45:36.651552Z",
     "shell.execute_reply": "2022-11-28T14:45:36.650178Z"
    },
    "papermill": {
     "duration": 0.026943,
     "end_time": "2022-11-28T14:45:36.654166",
     "exception": false,
     "start_time": "2022-11-28T14:45:36.627223",
     "status": "completed"
    },
    "tags": []
   },
   "outputs": [],
   "source": [
    "x_train, x_test, y_train, y_test = train_test_split(X, Y, test_size=0.2, random_state=42)\n",
    "\n"
   ]
  },
  {
   "cell_type": "code",
   "execution_count": 23,
   "id": "730ecd07",
   "metadata": {
    "execution": {
     "iopub.execute_input": "2022-11-28T14:45:36.674534Z",
     "iopub.status.busy": "2022-11-28T14:45:36.673832Z",
     "iopub.status.idle": "2022-11-28T14:45:36.680018Z",
     "shell.execute_reply": "2022-11-28T14:45:36.678970Z"
    },
    "papermill": {
     "duration": 0.021072,
     "end_time": "2022-11-28T14:45:36.684421",
     "exception": false,
     "start_time": "2022-11-28T14:45:36.663349",
     "status": "completed"
    },
    "tags": []
   },
   "outputs": [
    {
     "name": "stdout",
     "output_type": "stream",
     "text": [
      "Size of x_train: (23476, 380305)\n",
      "Size of y_train: (23476,)\n",
      "Size of x_test:  (5869, 380305)\n",
      "Size of y_test:  (5869,)\n"
     ]
    }
   ],
   "source": [
    "print(\"Size of x_train:\", (x_train.shape))\n",
    "print(\"Size of y_train:\", (y_train.shape))\n",
    "print(\"Size of x_test: \", (x_test.shape))\n",
    "print(\"Size of y_test: \", (y_test.shape))\n"
   ]
  },
  {
   "cell_type": "code",
   "execution_count": 24,
   "id": "9cbb5697",
   "metadata": {
    "execution": {
     "iopub.execute_input": "2022-11-28T14:45:36.706485Z",
     "iopub.status.busy": "2022-11-28T14:45:36.706062Z",
     "iopub.status.idle": "2022-11-28T14:45:46.282181Z",
     "shell.execute_reply": "2022-11-28T14:45:46.281296Z"
    },
    "papermill": {
     "duration": 9.589323,
     "end_time": "2022-11-28T14:45:46.284515",
     "exception": false,
     "start_time": "2022-11-28T14:45:36.695192",
     "status": "completed"
    },
    "tags": []
   },
   "outputs": [
    {
     "name": "stdout",
     "output_type": "stream",
     "text": [
      "Test accuarcy: 93.17%\n"
     ]
    }
   ],
   "source": [
    "logreg = LogisticRegression()\n",
    "logreg.fit(x_train, y_train)\n",
    "logreg_predict = logreg.predict(x_test)\n",
    "logreg_acc = accuracy_score(logreg_predict, y_test)\n",
    "print(\"Test accuarcy: {:.2f}%\".format(logreg_acc*100))"
   ]
  },
  {
   "cell_type": "code",
   "execution_count": 25,
   "id": "f9253e16",
   "metadata": {
    "execution": {
     "iopub.execute_input": "2022-11-28T14:45:46.304956Z",
     "iopub.status.busy": "2022-11-28T14:45:46.304495Z",
     "iopub.status.idle": "2022-11-28T14:45:46.351610Z",
     "shell.execute_reply": "2022-11-28T14:45:46.350578Z"
    },
    "papermill": {
     "duration": 0.059842,
     "end_time": "2022-11-28T14:45:46.354009",
     "exception": false,
     "start_time": "2022-11-28T14:45:46.294167",
     "status": "completed"
    },
    "tags": []
   },
   "outputs": [
    {
     "name": "stdout",
     "output_type": "stream",
     "text": [
      "Accuracy with Naive Bayes Classifier:  0.9313341284716306\n"
     ]
    }
   ],
   "source": [
    "from sklearn.naive_bayes import MultinomialNB\n",
    "clf = MultinomialNB().fit(x_train, y_train)\n",
    "predicted = clf.predict(x_test) \n",
    "print(\"Accuracy with Naive Bayes Classifier: \", accuracy_score(y_test,predicted))"
   ]
  },
  {
   "cell_type": "code",
   "execution_count": 26,
   "id": "16cf0812",
   "metadata": {
    "execution": {
     "iopub.execute_input": "2022-11-28T14:45:46.374749Z",
     "iopub.status.busy": "2022-11-28T14:45:46.373971Z",
     "iopub.status.idle": "2022-11-28T14:49:53.208591Z",
     "shell.execute_reply": "2022-11-28T14:49:53.207576Z"
    },
    "papermill": {
     "duration": 246.857256,
     "end_time": "2022-11-28T14:49:53.220438",
     "exception": false,
     "start_time": "2022-11-28T14:45:46.363182",
     "status": "completed"
    },
    "tags": []
   },
   "outputs": [
    {
     "name": "stdout",
     "output_type": "stream",
     "text": [
      "SVM  0.9316749020276026\n"
     ]
    }
   ],
   "source": [
    "from sklearn import svm\n",
    "SVM = svm.SVC(C=1.0,kernel='linear',degree= 3,gamma='auto')\n",
    "SVM.fit(x_train, y_train)\n",
    "predict = logreg.predict(x_test)\n",
    "print(\"SVM \", accuracy_score(y_test, predict))"
   ]
  },
  {
   "cell_type": "code",
   "execution_count": 27,
   "id": "0d1b7739",
   "metadata": {
    "execution": {
     "iopub.execute_input": "2022-11-28T14:49:53.240401Z",
     "iopub.status.busy": "2022-11-28T14:49:53.239991Z",
     "iopub.status.idle": "2022-11-28T15:03:19.195654Z",
     "shell.execute_reply": "2022-11-28T15:03:19.194565Z"
    },
    "papermill": {
     "duration": 805.977777,
     "end_time": "2022-11-28T15:03:19.207496",
     "exception": false,
     "start_time": "2022-11-28T14:49:53.229719",
     "status": "completed"
    },
    "tags": []
   },
   "outputs": [
    {
     "name": "stdout",
     "output_type": "stream",
     "text": [
      "Accuracy with Random Forest:  0.9487135798262055\n"
     ]
    }
   ],
   "source": [
    "from sklearn.ensemble import RandomForestClassifier\n",
    "random_forest = RandomForestClassifier()\n",
    "clf3=random_forest.fit(x_train, y_train)\n",
    "predicted3=clf3.predict(x_test)\n",
    "print(\"Accuracy with Random Forest: \", accuracy_score(y_test, predicted3))\n"
   ]
  },
  {
   "cell_type": "code",
   "execution_count": 28,
   "id": "7c074fe1",
   "metadata": {
    "execution": {
     "iopub.execute_input": "2022-11-28T15:03:19.228667Z",
     "iopub.status.busy": "2022-11-28T15:03:19.228086Z",
     "iopub.status.idle": "2022-11-28T15:03:29.965782Z",
     "shell.execute_reply": "2022-11-28T15:03:29.964034Z"
    },
    "papermill": {
     "duration": 10.751425,
     "end_time": "2022-11-28T15:03:29.968290",
     "exception": false,
     "start_time": "2022-11-28T15:03:19.216865",
     "status": "completed"
    },
    "tags": []
   },
   "outputs": [
    {
     "name": "stdout",
     "output_type": "stream",
     "text": [
      "Accuracy is \n"
     ]
    },
    {
     "data": {
      "text/plain": [
       "(None, 93.57641846992674)"
      ]
     },
     "execution_count": 28,
     "metadata": {},
     "output_type": "execute_result"
    }
   ],
   "source": [
    "from sklearn.tree import DecisionTreeClassifier\n",
    "clf_entropy = DecisionTreeClassifier(criterion = \"entropy\", random_state = 100,max_depth=3, min_samples_leaf=5)\n",
    "clf_entropy.fit(x_train, y_train)\n",
    "y_pred_en = clf_entropy.predict(x_test)\n",
    "print (\"Accuracy is \"), accuracy_score(y_test,y_pred_en)*100\n"
   ]
  },
  {
   "cell_type": "code",
   "execution_count": 29,
   "id": "801e3674",
   "metadata": {
    "execution": {
     "iopub.execute_input": "2022-11-28T15:03:29.989655Z",
     "iopub.status.busy": "2022-11-28T15:03:29.989188Z",
     "iopub.status.idle": "2022-11-28T15:03:35.452995Z",
     "shell.execute_reply": "2022-11-28T15:03:35.451546Z"
    },
    "papermill": {
     "duration": 5.47741,
     "end_time": "2022-11-28T15:03:35.455601",
     "exception": false,
     "start_time": "2022-11-28T15:03:29.978191",
     "status": "completed"
    },
    "tags": []
   },
   "outputs": [
    {
     "name": "stdout",
     "output_type": "stream",
     "text": [
      "Accuracy with Random Forest:  0.9442835235985687\n"
     ]
    }
   ],
   "source": [
    "from sklearn.neighbors import KNeighborsClassifier\n",
    "knn = KNeighborsClassifier(n_neighbors=5, metric='euclidean')\n",
    "knn.fit(x_train, y_train)\n",
    "y_pred = knn.predict(x_test)\n",
    "print(\"Accuracy with Random Forest: \", accuracy_score(y_test,y_pred ))"
   ]
  }
 ],
 "metadata": {
  "kernelspec": {
   "display_name": "Python 3",
   "language": "python",
   "name": "python3"
  },
  "language_info": {
   "codemirror_mode": {
    "name": "ipython",
    "version": 3
   },
   "file_extension": ".py",
   "mimetype": "text/x-python",
   "name": "python",
   "nbconvert_exporter": "python",
   "pygments_lexer": "ipython3",
   "version": "3.7.12"
  },
  "papermill": {
   "default_parameters": {},
   "duration": 1114.630398,
   "end_time": "2022-11-28T15:03:36.900490",
   "environment_variables": {},
   "exception": null,
   "input_path": "__notebook__.ipynb",
   "output_path": "__notebook__.ipynb",
   "parameters": {},
   "start_time": "2022-11-28T14:45:02.270092",
   "version": "2.3.4"
  }
 },
 "nbformat": 4,
 "nbformat_minor": 5
}
